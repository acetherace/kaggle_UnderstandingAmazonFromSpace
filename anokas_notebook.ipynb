{
 "cells": [
  {
   "cell_type": "markdown",
   "metadata": {
    "_cell_guid": "d5edcd32-1cbb-dace-9c27-968e6b3b39e1"
   },
   "source": [
    "## Classifying the Amazon Rainforest\n",
    "\n",
    "Welcome back to another satellite imagery competition - these seem to be in fashion lately :) This time, unlike other recent satellite imagery competitions, we have to add tags to each image (which are segments of a larger image of the Amazon Rainforest). However, since each image can have multiple labels, that makes this a **multi-label** classification challenge as opposed to standard multi-class problem.\n",
    "\n",
    "**And as always, if this helped you, some upvotes would be very much appreciated - that's where I get my motivation! :D**\n",
    "\n",
    "Time to get straight into the data:"
   ]
  },
  {
   "cell_type": "code",
   "execution_count": 3,
   "metadata": {
    "_cell_guid": "14b58767-2c57-fd00-a82b-31f91b230112",
    "collapsed": false
   },
   "outputs": [
    {
     "data": {
      "text/html": [
       "<script>requirejs.config({paths: { 'plotly': ['https://cdn.plot.ly/plotly-latest.min']},});if(!window.Plotly) {{require(['plotly'],function(plotly) {window.Plotly=plotly;});}}</script>"
      ],
      "text/plain": [
       "<IPython.core.display.HTML object>"
      ]
     },
     "metadata": {},
     "output_type": "display_data"
    }
   ],
   "source": [
    "import numpy as np # linear algebra\n",
    "import pandas as pd # data processing, CSV file I/O (e.g. pd.read_csv)\n",
    "import os\n",
    "import gc\n",
    "import matplotlib.pyplot as plt\n",
    "import seaborn as sns\n",
    "%matplotlib inline\n",
    "\n",
    "pal = sns.color_palette()\n",
    "\n",
    "import plotly.offline as py\n",
    "py.init_notebook_mode(connected=True)\n",
    "import plotly.graph_objs as go\n",
    "import plotly.tools as tls\n"
   ]
  },
  {
   "cell_type": "markdown",
   "metadata": {
    "_cell_guid": "c23e9d2f-281d-633d-c392-1dd3375d716c"
   },
   "source": [
    "Wow, so Kaggle Kernels has the full data! (Thanks Kaggle Team! :))\n",
    "\n",
    "Looks like we have 40k images for training, and 40k images for testing.\n",
    "The jpegs are on average **15KB**, and the tifs are on average **538KB**. The JPEGs seem a little on the small side, but TIFFs look like they will retain most of the quality.\n",
    "\n",
    "Before we open up the images, let's take a look at the `train.csv`.\n",
    "## Training Data"
   ]
  },
  {
   "cell_type": "code",
   "execution_count": 4,
   "metadata": {
    "_cell_guid": "366130cd-aa02-8aaf-0d9c-6da2dc102601",
    "collapsed": false
   },
   "outputs": [
    {
     "data": {
      "text/html": [
       "<div>\n",
       "<table border=\"1\" class=\"dataframe\">\n",
       "  <thead>\n",
       "    <tr style=\"text-align: right;\">\n",
       "      <th></th>\n",
       "      <th>image_name</th>\n",
       "      <th>tags</th>\n",
       "    </tr>\n",
       "  </thead>\n",
       "  <tbody>\n",
       "    <tr>\n",
       "      <th>0</th>\n",
       "      <td>train_0</td>\n",
       "      <td>haze primary</td>\n",
       "    </tr>\n",
       "    <tr>\n",
       "      <th>1</th>\n",
       "      <td>train_1</td>\n",
       "      <td>agriculture clear primary water</td>\n",
       "    </tr>\n",
       "    <tr>\n",
       "      <th>2</th>\n",
       "      <td>train_2</td>\n",
       "      <td>clear primary</td>\n",
       "    </tr>\n",
       "    <tr>\n",
       "      <th>3</th>\n",
       "      <td>train_3</td>\n",
       "      <td>clear primary</td>\n",
       "    </tr>\n",
       "    <tr>\n",
       "      <th>4</th>\n",
       "      <td>train_4</td>\n",
       "      <td>agriculture clear habitation primary road</td>\n",
       "    </tr>\n",
       "  </tbody>\n",
       "</table>\n",
       "</div>"
      ],
      "text/plain": [
       "  image_name                                       tags\n",
       "0    train_0                               haze primary\n",
       "1    train_1            agriculture clear primary water\n",
       "2    train_2                              clear primary\n",
       "3    train_3                              clear primary\n",
       "4    train_4  agriculture clear habitation primary road"
      ]
     },
     "execution_count": 4,
     "metadata": {},
     "output_type": "execute_result"
    }
   ],
   "source": [
    "#get and print current directory\n",
    "cwd = os.getcwd()\n",
    "cwd\n",
    "#open data from current directory. Should work with any direcotry path\n",
    "with open(os.path.join(cwd, \"data\", \"train.csv\")) as file:\n",
    "    df_train = pd.read_csv(file)\n",
    "df_train.head()"
   ]
  },
  {
   "cell_type": "markdown",
   "metadata": {
    "_cell_guid": "68e37d62-8f30-90e7-74c9-a1cae0a816b4"
   },
   "source": [
    "Okay, so our training metadata is super basic. It looks like we are just given names and the corresponding tags. Let's parse them and do some analysis"
   ]
  },
  {
   "cell_type": "code",
   "execution_count": 5,
   "metadata": {
    "_cell_guid": "4b7cea33-53a9-4b83-55c5-bba735bb57a9",
    "collapsed": true
   },
   "outputs": [],
   "source": [
    "labels = df_train['tags'].apply(lambda x: x.split(' '))"
   ]
  },
  {
   "cell_type": "markdown",
   "metadata": {
    "_cell_guid": "c80513f7-17ec-5c39-82ef-a4099e0ddff6"
   },
   "source": [
    "So it looks like we are not given much metadata, only the filenames and the corresponding tags. Let's parse these tags so that we can analyze them further."
   ]
  },
  {
   "cell_type": "code",
   "execution_count": 6,
   "metadata": {
    "_cell_guid": "74ebfc4d-dd4e-e655-717b-b6637c0d57c6",
    "collapsed": false
   },
   "outputs": [
    {
     "data": {
      "text/html": [
       "<div id=\"866155e0-b1ae-4acf-854a-9a4208be2ce7\" style=\"height: 525px; width: 100%;\" class=\"plotly-graph-div\"></div><script type=\"text/javascript\">require([\"plotly\"], function(Plotly) { window.PLOTLYENV=window.PLOTLYENV || {};window.PLOTLYENV.BASE_URL=\"https://plot.ly\";Plotly.newPlot(\"866155e0-b1ae-4acf-854a-9a4208be2ce7\", [{\"type\": \"bar\", \"x\": [\"haze\", \"primary\", \"agriculture\", \"clear\", \"water\", \"habitation\", \"road\", \"cultivation\", \"slash_burn\", \"cloudy\", \"partly_cloudy\", \"conventional_mine\", \"bare_ground\", \"artisinal_mine\", \"blooming\", \"selective_logging\", \"blow_down\"], \"y\": [2695, 37840, 12338, 28203, 7262, 3662, 8076, 4547, 209, 2330, 7251, 100, 859, 339, 332, 340, 101]}], {}, {\"showLink\": true, \"linkText\": \"Export to plot.ly\"})});</script>"
      ],
      "text/plain": [
       "<IPython.core.display.HTML object>"
      ]
     },
     "metadata": {},
     "output_type": "display_data"
    }
   ],
   "source": [
    "labels = df_train['tags'].apply(lambda x: x.split(' '))\n",
    "from collections import Counter, defaultdict\n",
    "counts = defaultdict(int)\n",
    "for l in labels:\n",
    "    for l2 in l:\n",
    "        counts[l2] += 1\n",
    "\n",
    "data=[go.Bar(x=list(counts.keys()), y=list(counts.values()))]\n",
    "layout=dict(height=800, width=800, title='Distribution of training labels')\n",
    "fig=dict(data=data, layout=layout)\n",
    "py.iplot(data, filename='train-label-dist')"
   ]
  },
  {
   "cell_type": "code",
   "execution_count": 7,
   "metadata": {
    "_cell_guid": "ccbe4f2e-b00c-8e8a-ace4-67fb2df95016",
    "collapsed": false
   },
   "outputs": [
    {
     "data": {
      "text/html": [
       "<div id=\"f32d17e7-5707-4548-a081-61f78dde84fc\" style=\"height: 525px; width: 100%;\" class=\"plotly-graph-div\"></div><script type=\"text/javascript\">require([\"plotly\"], function(Plotly) { window.PLOTLYENV=window.PLOTLYENV || {};window.PLOTLYENV.BASE_URL=\"https://plot.ly\";Plotly.newPlot(\"f32d17e7-5707-4548-a081-61f78dde84fc\", [{\"type\": \"heatmap\", \"z\": [[1.0, 0.9899814471243042, 0.24935064935064935, 0.0, 0.2274582560296846, 0.04786641929499073, 0.14619666048237476, 0.07495361781076067, 0.0011131725417439704, 0.0, 0.0, 0.0007421150278293135, 0.015213358070500928, 0.0018552875695732839, 0.001484230055658627, 0.0018552875695732839, 0.0], [0.07050739957716702, 1.0, 0.3168604651162791, 0.7311839323467231, 0.18649577167019027, 0.09172832980972516, 0.20436046511627906, 0.11773255813953488, 0.005523255813953488, 0.008747357293868921, 0.189561310782241, 0.002484143763213531, 0.01804968287526427, 0.008562367864693447, 0.008773784355179705, 0.008985200845665961, 0.0025898520084566595], [0.05446587777597666, 0.9717944561517263, 1.0, 0.7416112822175394, 0.22029502350461988, 0.22183498135840493, 0.4892202950235046, 0.2737072459069541, 0.009644999189495867, 0.0019452099205705948, 0.20197763008591343, 0.0019452099205705948, 0.018236343005349327, 0.0030799157075701088, 0.00259361322742746, 0.005268276868212028, 0.0017831090938563786], [0.0, 0.9810303868382796, 0.3244335708967131, 1.0, 0.18710775449420275, 0.10956281246675885, 0.22320320533276602, 0.1250576179839024, 0.006134099209303975, 0.0, 0.0, 0.002482005460412013, 0.026380172322093394, 0.010885366804949828, 0.011027195688401943, 0.010920824025812856, 0.0030138637733574444], [0.08441200771137428, 0.9717708620214817, 0.3742770586615258, 0.7266593225006885, 1.0, 0.1259983475626549, 0.2928945194161388, 0.11952630129440925, 0.0033048746901679976, 0.011704764527678326, 0.17722390526025888, 0.0035802809143486644, 0.02836684109060865, 0.04117323051500964, 0.002203249793445332, 0.006747452492426329, 0.0004131093362709997], [0.035226652102676136, 0.9478427089022392, 0.747405789186237, 0.843801201529219, 0.2498634625887493, 1.0, 0.7610595303113052, 0.244401966138722, 0.01119606772255598, 0.0005461496450027307, 0.12042599672310213, 0.009830693610049153, 0.04451119606772255, 0.007919169852539596, 0.0010922992900054614, 0.00354997269251775, 0.0008192244675040961], [0.04878652798415057, 0.95752847944527, 0.7473997028231798, 0.779470034670629, 0.2633729569093611, 0.3450965824665676, 1.0, 0.1602278355621595, 0.004457652303120356, 0.0006191183754333828, 0.17112431896978703, 0.007305596830113918, 0.03999504705299653, 0.013620604259534423, 0.0012382367508667657, 0.018697374938088162, 0.00024764735017335313], [0.04511949966495421, 0.995085995085995, 0.7542997542997543, 0.7878043332588787, 0.1938798302434666, 0.199910654456109, 0.28903283448737993, 1.0, 0.028143846325664506, 0.0, 0.16707616707616707, 0.0008934554389099843, 0.019879383515747154, 0.0040205494750949295, 0.007817735090462363, 0.012955103864194774, 0.0017869108778199687], [0.014354066985645933, 1.0, 0.569377990430622, 0.8277511961722488, 0.11483253588516747, 0.19617224880382775, 0.1722488038277512, 0.6028708133971292, 1.0, 0.0, 0.15789473684210525, 0.0, 0.04784688995215311, 0.0, 0.009569377990430622, 0.009569377990430622, 0.009569377990430622], [0.0, 0.14206008583690988, 0.010300429184549357, 0.0, 0.03648068669527897, 0.0008583690987124463, 0.002145922746781116, 0.0, 0.0, 1.0, 0.0, 0.0, 0.0, 0.0, 0.0, 0.0, 0.0], [0.0, 0.989242863053372, 0.3436767342435526, 0.0, 0.17749275961936284, 0.06081919735208937, 0.19059440077230727, 0.10315818507792028, 0.004551096400496483, 0.0, 1.0, 0.0038615363398151977, 0.010205488898083023, 0.003723624327678941, 0.00234450420631637, 0.003723624327678941, 0.0017928561577713418], [0.02, 0.94, 0.24, 0.7, 0.26, 0.36, 0.59, 0.04, 0.0, 0.0, 0.28, 1.0, 0.1, 0.04, 0.0, 0.0, 0.0], [0.047729918509895226, 0.7951105937136205, 0.2619324796274738, 0.8661233993015134, 0.239813736903376, 0.18975552968568102, 0.3760186263096624, 0.10360884749708964, 0.011641443538998836, 0.0, 0.08614668218859138, 0.011641443538998836, 1.0, 0.046565774155995346, 0.0034924330616996507, 0.015133876600698487, 0.004656577415599534], [0.014749262536873156, 0.9557522123893806, 0.11209439528023599, 0.9056047197640118, 0.8820058997050148, 0.0855457227138643, 0.32448377581120946, 0.05309734513274336, 0.0, 0.0, 0.07964601769911504, 0.011799410029498525, 0.11799410029498525, 1.0, 0.0, 0.017699115044247787, 0.0], [0.012048192771084338, 1.0, 0.0963855421686747, 0.9367469879518072, 0.04819277108433735, 0.012048192771084338, 0.030120481927710843, 0.10542168674698796, 0.006024096385542169, 0.0, 0.05120481927710843, 0.0, 0.009036144578313253, 0.0, 1.0, 0.02108433734939759, 0.0030120481927710845], [0.014705882352941176, 1.0, 0.19117647058823528, 0.9058823529411765, 0.14411764705882352, 0.03823529411764706, 0.4441176470588235, 0.17058823529411765, 0.0058823529411764705, 0.0, 0.07941176470588235, 0.0, 0.03823529411764706, 0.01764705882352941, 0.020588235294117647, 1.0, 0.0029411764705882353], [0.0, 1.0, 0.22448979591836735, 0.8673469387755102, 0.030612244897959183, 0.030612244897959183, 0.02040816326530612, 0.08163265306122448, 0.02040816326530612, 0.0, 0.1326530612244898, 0.0, 0.04081632653061224, 0.0, 0.01020408163265306, 0.01020408163265306, 1.0]], \"x\": [\"haze\", \"primary\", \"agriculture\", \"clear\", \"water\", \"habitation\", \"road\", \"cultivation\", \"slash_burn\", \"cloudy\", \"partly_cloudy\", \"conventional_mine\", \"bare_ground\", \"artisinal_mine\", \"blooming\", \"selective_logging\", \"blow_down\"], \"y\": [\"haze\", \"primary\", \"agriculture\", \"clear\", \"water\", \"habitation\", \"road\", \"cultivation\", \"slash_burn\", \"cloudy\", \"partly_cloudy\", \"conventional_mine\", \"bare_ground\", \"artisinal_mine\", \"blooming\", \"selective_logging\", \"blow_down\"]}], {}, {\"showLink\": true, \"linkText\": \"Export to plot.ly\"})});</script>"
      ],
      "text/plain": [
       "<IPython.core.display.HTML object>"
      ]
     },
     "metadata": {},
     "output_type": "display_data"
    }
   ],
   "source": [
    "# Co-occurence Matrix\n",
    "com = np.zeros([len(counts)]*2)\n",
    "for i, l in enumerate(list(counts.keys())):\n",
    "    for i2, l2 in enumerate(list(counts.keys())):\n",
    "        c = 0\n",
    "        cy = 0\n",
    "        for row in labels.values:\n",
    "            if l in row:\n",
    "                c += 1\n",
    "                if l2 in row: cy += 1\n",
    "        com[i, i2] = cy / c\n",
    "\n",
    "data=[go.Heatmap(z=com, x=list(counts.keys()), y=list(counts.keys()))]\n",
    "layout=go.Layout(height=800, width=800, title='Co-occurence matrix of training labels')\n",
    "fig=dict(data=data, layout=layout)\n",
    "py.iplot(data, filename='train-com')"
   ]
  },
  {
   "cell_type": "markdown",
   "metadata": {
    "_cell_guid": "fcb01864-76f0-65f7-6897-7b229b6c6413"
   },
   "source": [
    "It's worth noting that this co-occurence matrix shows **what percentage of the X label also has the Y label** - I think this shows more information than the standard symmetrical matrix.\n",
    "\n",
    "We can see that the label \"primary\" has the highest proportion of labels."
   ]
  },
  {
   "cell_type": "markdown",
   "metadata": {
    "_cell_guid": "459143d7-618c-5c12-10a6-62b30a798a3b"
   },
   "source": [
    "## Images\n",
    "Now, what you all came for. Let's load some of the images, and their corresponding labels."
   ]
  },
  {
   "cell_type": "code",
   "execution_count": 8,
   "metadata": {
    "_cell_guid": "7a52aa1f-a8c4-a3e1-7aee-0e6865f16c4b",
    "collapsed": false
   },
   "outputs": [
    {
     "ename": "ModuleNotFoundError",
     "evalue": "No module named 'cv2'",
     "output_type": "error",
     "traceback": [
      "\u001b[0;31m---------------------------------------------------------------------------\u001b[0m",
      "\u001b[0;31mModuleNotFoundError\u001b[0m                       Traceback (most recent call last)",
      "\u001b[0;32m<ipython-input-8-f3813e03bb4a>\u001b[0m in \u001b[0;36m<module>\u001b[0;34m()\u001b[0m\n\u001b[0;32m----> 1\u001b[0;31m \u001b[1;32mimport\u001b[0m \u001b[0mcv2\u001b[0m\u001b[1;33m\u001b[0m\u001b[0m\n\u001b[0m\u001b[1;32m      2\u001b[0m \u001b[1;33m\u001b[0m\u001b[0m\n\u001b[1;32m      3\u001b[0m \u001b[0mnew_style\u001b[0m \u001b[1;33m=\u001b[0m \u001b[1;33m{\u001b[0m\u001b[1;34m'grid'\u001b[0m\u001b[1;33m:\u001b[0m \u001b[1;32mFalse\u001b[0m\u001b[1;33m}\u001b[0m\u001b[1;33m\u001b[0m\u001b[0m\n\u001b[1;32m      4\u001b[0m \u001b[0mplt\u001b[0m\u001b[1;33m.\u001b[0m\u001b[0mrc\u001b[0m\u001b[1;33m(\u001b[0m\u001b[1;34m'axes'\u001b[0m\u001b[1;33m,\u001b[0m \u001b[1;33m**\u001b[0m\u001b[0mnew_style\u001b[0m\u001b[1;33m)\u001b[0m\u001b[1;33m\u001b[0m\u001b[0m\n\u001b[1;32m      5\u001b[0m \u001b[0m_\u001b[0m\u001b[1;33m,\u001b[0m \u001b[0max\u001b[0m \u001b[1;33m=\u001b[0m \u001b[0mplt\u001b[0m\u001b[1;33m.\u001b[0m\u001b[0msubplots\u001b[0m\u001b[1;33m(\u001b[0m\u001b[1;36m3\u001b[0m\u001b[1;33m,\u001b[0m \u001b[1;36m3\u001b[0m\u001b[1;33m,\u001b[0m \u001b[0msharex\u001b[0m\u001b[1;33m=\u001b[0m\u001b[1;34m'col'\u001b[0m\u001b[1;33m,\u001b[0m \u001b[0msharey\u001b[0m\u001b[1;33m=\u001b[0m\u001b[1;34m'row'\u001b[0m\u001b[1;33m,\u001b[0m \u001b[0mfigsize\u001b[0m\u001b[1;33m=\u001b[0m\u001b[1;33m(\u001b[0m\u001b[1;36m20\u001b[0m\u001b[1;33m,\u001b[0m \u001b[1;36m20\u001b[0m\u001b[1;33m)\u001b[0m\u001b[1;33m)\u001b[0m\u001b[1;33m\u001b[0m\u001b[0m\n",
      "\u001b[0;31mModuleNotFoundError\u001b[0m: No module named 'cv2'"
     ]
    }
   ],
   "source": [
    "import cv2\n",
    "\n",
    "new_style = {'grid': False}\n",
    "plt.rc('axes', **new_style)\n",
    "_, ax = plt.subplots(3, 3, sharex='col', sharey='row', figsize=(20, 20))\n",
    "i = 0\n",
    "for f, l in df_train[:9].values:\n",
    "    img = cv2.imread('../input/train-jpg/{}.jpg'.format(f))\n",
    "    ax[i // 3, i % 3].imshow(cv2.cvtColor(img, cv2.COLOR_BGR2RGB))\n",
    "    ax[i // 3, i % 3].set_title('{} - {}'.format(f, l))\n",
    "    #ax[i // 4, i % 4].show()\n",
    "    i += 1\n",
    "    \n",
    "plt.show()"
   ]
  },
  {
   "cell_type": "code",
   "execution_count": null,
   "metadata": {
    "collapsed": true
   },
   "outputs": [],
   "source": []
  }
 ],
 "metadata": {
  "_change_revision": 1,
  "_is_fork": false,
  "kernelspec": {
   "display_name": "Python 3",
   "language": "python",
   "name": "python3"
  },
  "language_info": {
   "codemirror_mode": {
    "name": "ipython",
    "version": 3
   },
   "file_extension": ".py",
   "mimetype": "text/x-python",
   "name": "python",
   "nbconvert_exporter": "python",
   "pygments_lexer": "ipython3",
   "version": "3.6.0"
  }
 },
 "nbformat": 4,
 "nbformat_minor": 0
}
